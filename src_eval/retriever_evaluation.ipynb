{
 "cells": [
  {
   "cell_type": "code",
   "execution_count": null,
   "id": "c77a8517-3b53-454c-a111-73d712d00599",
   "metadata": {},
   "outputs": [],
   "source": [
    "%autosave 0"
   ]
  },
  {
   "cell_type": "code",
   "execution_count": null,
   "id": "243d4925-5724-42de-a350-517be2c067cd",
   "metadata": {},
   "outputs": [],
   "source": [
    "from cherche import retrieve\n",
    "from sentence_transformers import SentenceTransformer, util\n",
    "import pandas as pd\n",
    "from tqdm.notebook import tqdm\n",
    "tqdm.pandas()\n",
    "import numpy as np\n",
    "import os\n",
    "import json"
   ]
  },
  {
   "cell_type": "markdown",
   "id": "e4c058af-45df-49e3-87e8-53e13e714c34",
   "metadata": {},
   "source": [
    "# evaluation variables"
   ]
  },
  {
   "cell_type": "code",
   "execution_count": null,
   "id": "d89d6679-b003-4af6-b3ff-5abbb7bb8b90",
   "metadata": {},
   "outputs": [],
   "source": [
    "DB_PATH = \"../dataset_ready/db_libraries.csv\"\n",
    "QUERIES_PATH = \"../dataset_ready/queries_w_labels.csv\"\n",
    "GROUND_TRUTH = \"../\"\n",
    "KEYWORDS = \"new_keywords.json\"\n",
    "for path in (DB_PATH, QUERIES_PATH):\n",
    "    print(os.path.exists(path))\n",
    "    \n",
    "MODEL_PATH = \"./model/TripletLoss_uncased_iter5_sim_augmentation_codebert-2022-08-20_04-30-14\""
   ]
  },
  {
   "cell_type": "markdown",
   "id": "e8c637e1-7a7e-4620-9505-f2a3ea4aabfa",
   "metadata": {},
   "source": [
    "# prepare index"
   ]
  },
  {
   "cell_type": "code",
   "execution_count": null,
   "id": "6da39abd-a7ef-4d9c-aab6-9e9009d6c8db",
   "metadata": {},
   "outputs": [],
   "source": [
    "df = pd.read_csv(DB_PATH)\n",
    "df = df[['id', 'dirname']].copy()"
   ]
  },
  {
   "cell_type": "code",
   "execution_count": null,
   "id": "26f672a4-f658-42b7-845b-083fc75790db",
   "metadata": {},
   "outputs": [],
   "source": [
    "def generate_index(df):\n",
    "    df_cp = df.copy()\n",
    "    index_list = []\n",
    "    for id_, dirname in df_cp.values:\n",
    "        index_list.append(\n",
    "        {\n",
    "            'id': id_,\n",
    "            'library': dirname.lower()\n",
    "        })\n",
    "    return index_list"
   ]
  },
  {
   "cell_type": "code",
   "execution_count": null,
   "id": "c085e779-1e76-43f5-9397-da04ec7d16d7",
   "metadata": {},
   "outputs": [],
   "source": [
    "index_list = generate_index(df)\n",
    "index_list[:5]"
   ]
  },
  {
   "cell_type": "markdown",
   "id": "090a0eb4-f0a1-4c48-959e-6cd693149235",
   "metadata": {},
   "source": [
    "# load model"
   ]
  },
  {
   "cell_type": "code",
   "execution_count": null,
   "id": "59c5edbc-77d2-424d-83c1-25c511a91238",
   "metadata": {},
   "outputs": [],
   "source": [
    "codebert = SentenceTransformer(MODEL_PATH)"
   ]
  },
  {
   "cell_type": "code",
   "execution_count": null,
   "id": "78cb5011-ae18-48e7-bdd4-c83a27c71b79",
   "metadata": {},
   "outputs": [],
   "source": [
    "retriever = retrieve.Encoder(\n",
    "    key = \"id\",\n",
    "    on = \"library\",\n",
    "    encoder = codebert.encode,\n",
    "    k = 10,\n",
    "    path = f\"temp/TripletLoss_uncased_iter5_sim_augmentation_codebert-2022-08-20_04-30-14.pkl\"\n",
    ")"
   ]
  },
  {
   "cell_type": "code",
   "execution_count": null,
   "id": "f697b392-0422-47b9-8914-968a82ba5588",
   "metadata": {},
   "outputs": [],
   "source": [
    "retriever = retriever.add(documents=index_list)"
   ]
  },
  {
   "cell_type": "markdown",
   "id": "104ca4c1-19b6-4316-9060-a53bad394e0d",
   "metadata": {},
   "source": [
    "# perform search on the queries"
   ]
  },
  {
   "cell_type": "code",
   "execution_count": null,
   "id": "dc5cf211-0308-4b08-b17a-f9a64cb22a82",
   "metadata": {},
   "outputs": [],
   "source": [
    "df_queries = pd.read_csv(QUERIES_PATH)\n",
    "df_queries.fillna(\"null\", inplace=True)\n",
    "columns = ['truths_family', 'truths_serie']\n",
    "\n",
    "for column in columns:\n",
    "    df_queries[column] = df_queries[column].progress_apply(lambda x: x.split(\"###\") if x != \"null\" else \"null\")\n",
    "    df_queries[column] = df_queries[column].progress_apply(lambda x: [int(id_) for id_ in x] if x!= \"null\" else \"null\")"
   ]
  },
  {
   "cell_type": "code",
   "execution_count": null,
   "id": "a11dc983-4c9a-4649-88cc-e9cb72278a5d",
   "metadata": {},
   "outputs": [],
   "source": [
    "with open(KEYWORDS, \"r\") as f:\n",
    "    keywords = json.load(f)\n",
    "\n",
    "df_queries['keywords'] = keywords\n",
    "df_queries['keywords'] = df_queries['keywords'].progress_apply(lambda x: x.split(\"###\") if x != \"null\" else \"null\")"
   ]
  },
  {
   "cell_type": "code",
   "execution_count": null,
   "id": "ae09e90a-054d-4a74-a4b3-c42a7d4c74e8",
   "metadata": {},
   "outputs": [],
   "source": [
    "def extract_series(x):\n",
    "    name = x.replace(\"-\", \" \").replace(\"_\", \" \")\n",
    "    name = name.split()\n",
    "    series = []\n",
    "    for token in name:\n",
    "        if token.isalnum() and not(token.isalpha()) and not(token.isdigit()):\n",
    "            series.append(token)\n",
    "    if len(series) > 0:\n",
    "        return series\n",
    "    else:\n",
    "        return [x]\n",
    "\n",
    "def search_on_queries(df, model, k):\n",
    "    df_cp = df.copy()\n",
    "    preds = []\n",
    "    for query_id, query, cat, truths_fam, truths_ser, keywords in df_cp.values:\n",
    "        temp_preds = []\n",
    "        for keyword in keywords:\n",
    "            results = model(keyword)\n",
    "            assert(len(results)==k)\n",
    "            for item in results:\n",
    "                temp_preds.append(item)\n",
    "        \n",
    "        temp_preds_sorted = sorted(temp_preds, key=lambda d: d['similarity'], reverse=True)\n",
    "        temp_preds_sorted = [x.get('id') for x in temp_preds_sorted]\n",
    "        preds.append(temp_preds_sorted[:k])\n",
    "    return preds"
   ]
  },
  {
   "cell_type": "code",
   "execution_count": null,
   "id": "fd820c57-8778-440c-b06d-c3ad620dab4b",
   "metadata": {},
   "outputs": [],
   "source": [
    "preds = search_on_queries(df_queries, retriever, 10)"
   ]
  },
  {
   "cell_type": "code",
   "execution_count": null,
   "id": "d8e26878-d626-400a-b26c-6437b7da05f8",
   "metadata": {},
   "outputs": [],
   "source": [
    "df_queries['preds'] = preds"
   ]
  },
  {
   "cell_type": "markdown",
   "id": "6e818800-5ff9-4a56-a8a6-a7a5e7ff99f2",
   "metadata": {},
   "source": [
    "# evaluate precision"
   ]
  },
  {
   "cell_type": "code",
   "execution_count": null,
   "id": "e7f9b962-d816-4527-bab5-e57fc69d66cf",
   "metadata": {},
   "outputs": [],
   "source": [
    "def get_precision_family(x, k):\n",
    "    preds = x.preds[:k]\n",
    "    truths_fam = x[\"truths_family\"] if x[\"truths_family\"] != \"null\" else []\n",
    "    truths_ser = x[\"truths_serie\"] if x[\"truths_serie\"] != \"null\" else []\n",
    "    truths = truths_fam + truths_ser\n",
    "    return len(set(preds) & set(truths))/k\n",
    "\n",
    "def get_precision_serie(x, k):\n",
    "    preds = x.preds[:k]\n",
    "    truths = x[\"truths_serie\"] if x[\"truths_serie\"] != \"null\" else []  \n",
    "    return len(set(preds) & set(truths))/k"
   ]
  },
  {
   "cell_type": "code",
   "execution_count": null,
   "id": "d4aa1829-b11a-4e57-9fa4-416d5f46be2d",
   "metadata": {},
   "outputs": [],
   "source": [
    "k_list = [1, 5, 10]\n",
    "for k in k_list:\n",
    "    df_queries[f\"precision_{k}\"] = df_queries.progress_apply(lambda x: get_precision_family(x, k), axis=1)"
   ]
  },
  {
   "cell_type": "code",
   "execution_count": null,
   "id": "1df70f22-ff5a-4d5e-9fba-2a6e9d0422ae",
   "metadata": {},
   "outputs": [],
   "source": [
    "df_cp = df_queries[df_queries.truths_family != \"null\"].copy()\n",
    "print(len(df_cp))\n",
    "for k in k_list:\n",
    "    print(f'precision@{k} family: {df_cp[f\"precision_family_{k}\"].sum()/len(df_cp)}')"
   ]
  },
  {
   "cell_type": "code",
   "execution_count": null,
   "id": "aa46c155-c7fa-422f-82b3-b591eb8f0105",
   "metadata": {},
   "outputs": [],
   "source": []
  }
 ],
 "metadata": {
  "kernelspec": {
   "display_name": "Python 3 (ipykernel)",
   "language": "python",
   "name": "python3"
  },
  "language_info": {
   "codemirror_mode": {
    "name": "ipython",
    "version": 3
   },
   "file_extension": ".py",
   "mimetype": "text/x-python",
   "name": "python",
   "nbconvert_exporter": "python",
   "pygments_lexer": "ipython3",
   "version": "3.8.5"
  }
 },
 "nbformat": 4,
 "nbformat_minor": 5
}
