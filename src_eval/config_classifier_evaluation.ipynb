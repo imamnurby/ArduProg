{
 "cells": [
  {
   "cell_type": "code",
   "execution_count": 1,
   "id": "abcea201-9ad7-459a-b62e-7785afd33670",
   "metadata": {},
   "outputs": [
    {
     "data": {
      "application/javascript": [
       "IPython.notebook.set_autosave_interval(0)"
      ]
     },
     "metadata": {},
     "output_type": "display_data"
    },
    {
     "name": "stdout",
     "output_type": "stream",
     "text": [
      "Autosave disabled\n"
     ]
    }
   ],
   "source": [
    "%autosave 0"
   ]
  },
  {
   "cell_type": "code",
   "execution_count": 2,
   "id": "fece9159-dd57-47df-baf9-5afb8c828ac3",
   "metadata": {},
   "outputs": [],
   "source": [
    "import os\n",
    "import pandas as pd\n",
    "import numpy as np\n",
    "from tqdm.notebook import tqdm\n",
    "tqdm.pandas()\n",
    "import json\n",
    "\n",
    "from transformers import RobertaModel, AutoTokenizer\n",
    "\n",
    "from sklearn.metrics import precision_score\n",
    "from sklearn.metrics import f1_score\n",
    "from sklearn.metrics import roc_curve\n",
    "from sklearn.metrics import auc\n",
    "from sklearn.multiclass import OneVsRestClassifier\n",
    "from sklearn import svm\n",
    "\n",
    "from itertools import cycle\n",
    "\n",
    "from matplotlib import pyplot as plt\n",
    "\n",
    "import math\n",
    "import torch\n",
    "import random"
   ]
  },
  {
   "cell_type": "code",
   "execution_count": 3,
   "id": "e9ad4e75-423c-4f15-aa1f-1bdf4027e179",
   "metadata": {},
   "outputs": [],
   "source": [
    "np.random.seed(42)\n",
    "torch.manual_seed(0)\n",
    "random.seed(0)"
   ]
  },
  {
   "cell_type": "code",
   "execution_count": 4,
   "id": "ee11bc5e-a7d5-4563-bdad-c3114fd81a44",
   "metadata": {},
   "outputs": [],
   "source": [
    "TRAIN = \"prepared_data/train.csv\"\n",
    "TEST = \"prepared_data/test.csv\""
   ]
  },
  {
   "cell_type": "code",
   "execution_count": 5,
   "id": "3cdbe1b5-85ab-4629-b0d2-e699fb0d8b8c",
   "metadata": {},
   "outputs": [],
   "source": [
    "train = pd.read_csv(TRAIN)"
   ]
  },
  {
   "cell_type": "code",
   "execution_count": 6,
   "id": "441d7f8e-c644-43bd-aae4-245316f6c1ff",
   "metadata": {
    "scrolled": true,
    "tags": []
   },
   "outputs": [
    {
     "data": {
      "text/html": [
       "<div>\n",
       "<style scoped>\n",
       "    .dataframe tbody tr th:only-of-type {\n",
       "        vertical-align: middle;\n",
       "    }\n",
       "\n",
       "    .dataframe tbody tr th {\n",
       "        vertical-align: top;\n",
       "    }\n",
       "\n",
       "    .dataframe thead th {\n",
       "        text-align: right;\n",
       "    }\n",
       "</style>\n",
       "<table border=\"1\" class=\"dataframe\">\n",
       "  <thead>\n",
       "    <tr style=\"text-align: right;\">\n",
       "      <th></th>\n",
       "      <th>library</th>\n",
       "      <th>fname</th>\n",
       "      <th>features</th>\n",
       "      <th>is_uart</th>\n",
       "      <th>is_spi</th>\n",
       "      <th>is_i2c</th>\n",
       "      <th>is_none</th>\n",
       "      <th>len_features</th>\n",
       "      <th>label</th>\n",
       "    </tr>\n",
       "  </thead>\n",
       "  <tbody>\n",
       "    <tr>\n",
       "      <th>0</th>\n",
       "      <td>GT5X</td>\n",
       "      <td>GT5X</td>\n",
       "      <td>void GT5X::write_cmd_packet(uint16_t cmd, uint...</td>\n",
       "      <td>1</td>\n",
       "      <td>0</td>\n",
       "      <td>0</td>\n",
       "      <td>0</td>\n",
       "      <td>924</td>\n",
       "      <td>1</td>\n",
       "    </tr>\n",
       "    <tr>\n",
       "      <th>1</th>\n",
       "      <td>MH-Z19</td>\n",
       "      <td>MHZ19</td>\n",
       "      <td>void MHZ19::begin(Stream &amp;serial){mySerial = &amp;...</td>\n",
       "      <td>1</td>\n",
       "      <td>0</td>\n",
       "      <td>0</td>\n",
       "      <td>0</td>\n",
       "      <td>791</td>\n",
       "      <td>1</td>\n",
       "    </tr>\n",
       "    <tr>\n",
       "      <th>2</th>\n",
       "      <td>Pixetto</td>\n",
       "      <td>Pixetto</td>\n",
       "      <td>Pixetto::Pixetto(int rx, int tx){m_rx = rx;m_t...</td>\n",
       "      <td>1</td>\n",
       "      <td>0</td>\n",
       "      <td>0</td>\n",
       "      <td>0</td>\n",
       "      <td>354</td>\n",
       "      <td>1</td>\n",
       "    </tr>\n",
       "    <tr>\n",
       "      <th>3</th>\n",
       "      <td>TriSonica_Mini</td>\n",
       "      <td>TSM</td>\n",
       "      <td>TSM::TSM(HardwareSerial&amp; stream) {_serial = &amp;s...</td>\n",
       "      <td>1</td>\n",
       "      <td>0</td>\n",
       "      <td>0</td>\n",
       "      <td>0</td>\n",
       "      <td>218</td>\n",
       "      <td>1</td>\n",
       "    </tr>\n",
       "    <tr>\n",
       "      <th>4</th>\n",
       "      <td>LSA08</td>\n",
       "      <td>DebuggerSerial</td>\n",
       "      <td>DebuggerSerial::DebuggerSerial() {}[SEP]Debugg...</td>\n",
       "      <td>1</td>\n",
       "      <td>0</td>\n",
       "      <td>0</td>\n",
       "      <td>0</td>\n",
       "      <td>153</td>\n",
       "      <td>1</td>\n",
       "    </tr>\n",
       "    <tr>\n",
       "      <th>...</th>\n",
       "      <td>...</td>\n",
       "      <td>...</td>\n",
       "      <td>...</td>\n",
       "      <td>...</td>\n",
       "      <td>...</td>\n",
       "      <td>...</td>\n",
       "      <td>...</td>\n",
       "      <td>...</td>\n",
       "      <td>...</td>\n",
       "    </tr>\n",
       "    <tr>\n",
       "      <th>300</th>\n",
       "      <td>Arduino_APA102</td>\n",
       "      <td>Arduino_APA102</td>\n",
       "      <td>Arduino_APA102::Arduino_APA102(uint8_t newNumL...</td>\n",
       "      <td>0</td>\n",
       "      <td>0</td>\n",
       "      <td>0</td>\n",
       "      <td>1</td>\n",
       "      <td>297</td>\n",
       "      <td>4</td>\n",
       "    </tr>\n",
       "    <tr>\n",
       "      <th>301</th>\n",
       "      <td>FastCapacitiveSensor</td>\n",
       "      <td>FastCapacitiveSensor</td>\n",
       "      <td>FastCapacitiveSensor::FastCapacitiveSensor() {...</td>\n",
       "      <td>0</td>\n",
       "      <td>0</td>\n",
       "      <td>0</td>\n",
       "      <td>1</td>\n",
       "      <td>129</td>\n",
       "      <td>4</td>\n",
       "    </tr>\n",
       "    <tr>\n",
       "      <th>302</th>\n",
       "      <td>DHTINT</td>\n",
       "      <td>dhtint</td>\n",
       "      <td>void DHTINT::reset(){pinMode(_dataPin, OUTPUT)...</td>\n",
       "      <td>0</td>\n",
       "      <td>0</td>\n",
       "      <td>0</td>\n",
       "      <td>1</td>\n",
       "      <td>342</td>\n",
       "      <td>4</td>\n",
       "    </tr>\n",
       "    <tr>\n",
       "      <th>303</th>\n",
       "      <td>CurrentTransformer</td>\n",
       "      <td>CurrentTransformer</td>\n",
       "      <td>CT_Sensor::CT_Sensor(uint8_t channel, float ra...</td>\n",
       "      <td>0</td>\n",
       "      <td>0</td>\n",
       "      <td>0</td>\n",
       "      <td>1</td>\n",
       "      <td>269</td>\n",
       "      <td>4</td>\n",
       "    </tr>\n",
       "    <tr>\n",
       "      <th>304</th>\n",
       "      <td>ThermistorLibrary</td>\n",
       "      <td>thermistor</td>\n",
       "      <td>thermistor::thermistor(int pin, int sensorNumb...</td>\n",
       "      <td>0</td>\n",
       "      <td>0</td>\n",
       "      <td>0</td>\n",
       "      <td>1</td>\n",
       "      <td>70</td>\n",
       "      <td>4</td>\n",
       "    </tr>\n",
       "  </tbody>\n",
       "</table>\n",
       "<p>305 rows × 9 columns</p>\n",
       "</div>"
      ],
      "text/plain": [
       "                  library                 fname  \\\n",
       "0                    GT5X                  GT5X   \n",
       "1                  MH-Z19                 MHZ19   \n",
       "2                 Pixetto               Pixetto   \n",
       "3          TriSonica_Mini                   TSM   \n",
       "4                   LSA08        DebuggerSerial   \n",
       "..                    ...                   ...   \n",
       "300        Arduino_APA102        Arduino_APA102   \n",
       "301  FastCapacitiveSensor  FastCapacitiveSensor   \n",
       "302                DHTINT                dhtint   \n",
       "303    CurrentTransformer    CurrentTransformer   \n",
       "304     ThermistorLibrary            thermistor   \n",
       "\n",
       "                                              features  is_uart  is_spi  \\\n",
       "0    void GT5X::write_cmd_packet(uint16_t cmd, uint...        1       0   \n",
       "1    void MHZ19::begin(Stream &serial){mySerial = &...        1       0   \n",
       "2    Pixetto::Pixetto(int rx, int tx){m_rx = rx;m_t...        1       0   \n",
       "3    TSM::TSM(HardwareSerial& stream) {_serial = &s...        1       0   \n",
       "4    DebuggerSerial::DebuggerSerial() {}[SEP]Debugg...        1       0   \n",
       "..                                                 ...      ...     ...   \n",
       "300  Arduino_APA102::Arduino_APA102(uint8_t newNumL...        0       0   \n",
       "301  FastCapacitiveSensor::FastCapacitiveSensor() {...        0       0   \n",
       "302  void DHTINT::reset(){pinMode(_dataPin, OUTPUT)...        0       0   \n",
       "303  CT_Sensor::CT_Sensor(uint8_t channel, float ra...        0       0   \n",
       "304  thermistor::thermistor(int pin, int sensorNumb...        0       0   \n",
       "\n",
       "     is_i2c  is_none  len_features  label  \n",
       "0         0        0           924      1  \n",
       "1         0        0           791      1  \n",
       "2         0        0           354      1  \n",
       "3         0        0           218      1  \n",
       "4         0        0           153      1  \n",
       "..      ...      ...           ...    ...  \n",
       "300       0        1           297      4  \n",
       "301       0        1           129      4  \n",
       "302       0        1           342      4  \n",
       "303       0        1           269      4  \n",
       "304       0        1            70      4  \n",
       "\n",
       "[305 rows x 9 columns]"
      ]
     },
     "execution_count": 6,
     "metadata": {},
     "output_type": "execute_result"
    }
   ],
   "source": [
    "train"
   ]
  },
  {
   "cell_type": "code",
   "execution_count": 7,
   "id": "ea1b8e90-58eb-42f9-889b-112ff0906933",
   "metadata": {},
   "outputs": [
    {
     "data": {
      "text/plain": [
       "19"
      ]
     },
     "execution_count": 7,
     "metadata": {},
     "output_type": "execute_result"
    }
   ],
   "source": [
    "train.is_uart.sum()"
   ]
  },
  {
   "cell_type": "code",
   "execution_count": 8,
   "id": "9ed01728-c53f-4c99-b433-987f2ddf38ef",
   "metadata": {},
   "outputs": [
    {
     "data": {
      "text/plain": [
       "159"
      ]
     },
     "execution_count": 8,
     "metadata": {},
     "output_type": "execute_result"
    }
   ],
   "source": [
    "train.is_i2c.sum()"
   ]
  },
  {
   "cell_type": "code",
   "execution_count": 9,
   "id": "8a9540b8-f58d-44e7-a17c-403b3ba6485a",
   "metadata": {},
   "outputs": [
    {
     "data": {
      "text/plain": [
       "98"
      ]
     },
     "execution_count": 9,
     "metadata": {},
     "output_type": "execute_result"
    }
   ],
   "source": [
    "train.is_none.sum()"
   ]
  },
  {
   "cell_type": "code",
   "execution_count": 10,
   "id": "2e821216-61f2-43e1-943c-7f32193a0630",
   "metadata": {},
   "outputs": [
    {
     "data": {
      "text/plain": [
       "45"
      ]
     },
     "execution_count": 10,
     "metadata": {},
     "output_type": "execute_result"
    }
   ],
   "source": [
    "train.is_spi.sum()"
   ]
  },
  {
   "cell_type": "code",
   "execution_count": 11,
   "id": "b3d5142d-3b9c-47ad-8900-f2a3f6d007e3",
   "metadata": {
    "scrolled": true,
    "tags": []
   },
   "outputs": [
    {
     "data": {
      "text/html": [
       "<div>\n",
       "<style scoped>\n",
       "    .dataframe tbody tr th:only-of-type {\n",
       "        vertical-align: middle;\n",
       "    }\n",
       "\n",
       "    .dataframe tbody tr th {\n",
       "        vertical-align: top;\n",
       "    }\n",
       "\n",
       "    .dataframe thead th {\n",
       "        text-align: right;\n",
       "    }\n",
       "</style>\n",
       "<table border=\"1\" class=\"dataframe\">\n",
       "  <thead>\n",
       "    <tr style=\"text-align: right;\">\n",
       "      <th></th>\n",
       "      <th>library</th>\n",
       "      <th>fname</th>\n",
       "      <th>features</th>\n",
       "      <th>is_uart</th>\n",
       "      <th>is_spi</th>\n",
       "      <th>is_i2c</th>\n",
       "      <th>is_none</th>\n",
       "      <th>len_features</th>\n",
       "      <th>label</th>\n",
       "    </tr>\n",
       "  </thead>\n",
       "  <tbody>\n",
       "    <tr>\n",
       "      <th>0</th>\n",
       "      <td>MH-Z19</td>\n",
       "      <td>MHZ19</td>\n",
       "      <td>MHZ19::MHZ19(byte SDA, byte SDL, byte addr) : ...</td>\n",
       "      <td>1</td>\n",
       "      <td>0</td>\n",
       "      <td>0</td>\n",
       "      <td>0</td>\n",
       "      <td>945</td>\n",
       "      <td>1</td>\n",
       "    </tr>\n",
       "    <tr>\n",
       "      <th>1</th>\n",
       "      <td>PMSensor-HPMA115</td>\n",
       "      <td>HPMA115_Compact</td>\n",
       "      <td>HPMA115_Compact::HPMA115_Compact() {}[SEP]bool...</td>\n",
       "      <td>1</td>\n",
       "      <td>0</td>\n",
       "      <td>0</td>\n",
       "      <td>0</td>\n",
       "      <td>308</td>\n",
       "      <td>1</td>\n",
       "    </tr>\n",
       "    <tr>\n",
       "      <th>2</th>\n",
       "      <td>AmbientCO2</td>\n",
       "      <td>AmbientCO2</td>\n",
       "      <td>AmbientCO2::AmbientCO2(Stream &amp;serialPort) {_s...</td>\n",
       "      <td>1</td>\n",
       "      <td>0</td>\n",
       "      <td>0</td>\n",
       "      <td>0</td>\n",
       "      <td>54</td>\n",
       "      <td>1</td>\n",
       "    </tr>\n",
       "    <tr>\n",
       "      <th>3</th>\n",
       "      <td>DFRobot_BT401</td>\n",
       "      <td>DFRobot_BT401</td>\n",
       "      <td>DFRobot_BT401::DFRobot_BT401(){}[SEP]bool DFRo...</td>\n",
       "      <td>1</td>\n",
       "      <td>0</td>\n",
       "      <td>0</td>\n",
       "      <td>0</td>\n",
       "      <td>251</td>\n",
       "      <td>1</td>\n",
       "    </tr>\n",
       "    <tr>\n",
       "      <th>4</th>\n",
       "      <td>ALog</td>\n",
       "      <td>ALog</td>\n",
       "      <td>ALog::ALog(){}[SEP]void ALog::initialize(char*...</td>\n",
       "      <td>1</td>\n",
       "      <td>1</td>\n",
       "      <td>1</td>\n",
       "      <td>0</td>\n",
       "      <td>2306</td>\n",
       "      <td>1</td>\n",
       "    </tr>\n",
       "    <tr>\n",
       "      <th>...</th>\n",
       "      <td>...</td>\n",
       "      <td>...</td>\n",
       "      <td>...</td>\n",
       "      <td>...</td>\n",
       "      <td>...</td>\n",
       "      <td>...</td>\n",
       "      <td>...</td>\n",
       "      <td>...</td>\n",
       "      <td>...</td>\n",
       "    </tr>\n",
       "    <tr>\n",
       "      <th>165</th>\n",
       "      <td>Analog-Keypad</td>\n",
       "      <td>ezAnalogKeypad</td>\n",
       "      <td>ezAnalogKeypad::ezAnalogKeypad(int pin) {keypa...</td>\n",
       "      <td>0</td>\n",
       "      <td>0</td>\n",
       "      <td>0</td>\n",
       "      <td>1</td>\n",
       "      <td>171</td>\n",
       "      <td>4</td>\n",
       "    </tr>\n",
       "    <tr>\n",
       "      <th>166</th>\n",
       "      <td>PMsensor</td>\n",
       "      <td>PMsensor</td>\n",
       "      <td>PMsensor::PMsensor() {}[SEP]void PMsensor::ini...</td>\n",
       "      <td>0</td>\n",
       "      <td>0</td>\n",
       "      <td>0</td>\n",
       "      <td>1</td>\n",
       "      <td>71</td>\n",
       "      <td>4</td>\n",
       "    </tr>\n",
       "    <tr>\n",
       "      <th>167</th>\n",
       "      <td>arduino-volume1</td>\n",
       "      <td>Volume</td>\n",
       "      <td>void Volume::alternatePin(bool enabled) {if (e...</td>\n",
       "      <td>0</td>\n",
       "      <td>0</td>\n",
       "      <td>0</td>\n",
       "      <td>1</td>\n",
       "      <td>165</td>\n",
       "      <td>4</td>\n",
       "    </tr>\n",
       "    <tr>\n",
       "      <th>168</th>\n",
       "      <td>UltraSonic_Lib</td>\n",
       "      <td>UltraSonic</td>\n",
       "      <td>UltraSonic::UltraSonic(int pintype, int pin_on...</td>\n",
       "      <td>0</td>\n",
       "      <td>0</td>\n",
       "      <td>0</td>\n",
       "      <td>1</td>\n",
       "      <td>107</td>\n",
       "      <td>4</td>\n",
       "    </tr>\n",
       "    <tr>\n",
       "      <th>169</th>\n",
       "      <td>Button-Arduino</td>\n",
       "      <td>Button</td>\n",
       "      <td>Button::Button(uint8_t pin) : Button(pin, B_NO...</td>\n",
       "      <td>0</td>\n",
       "      <td>0</td>\n",
       "      <td>0</td>\n",
       "      <td>1</td>\n",
       "      <td>157</td>\n",
       "      <td>4</td>\n",
       "    </tr>\n",
       "  </tbody>\n",
       "</table>\n",
       "<p>170 rows × 9 columns</p>\n",
       "</div>"
      ],
      "text/plain": [
       "              library            fname  \\\n",
       "0              MH-Z19            MHZ19   \n",
       "1    PMSensor-HPMA115  HPMA115_Compact   \n",
       "2          AmbientCO2       AmbientCO2   \n",
       "3       DFRobot_BT401    DFRobot_BT401   \n",
       "4                ALog             ALog   \n",
       "..                ...              ...   \n",
       "165     Analog-Keypad   ezAnalogKeypad   \n",
       "166          PMsensor         PMsensor   \n",
       "167   arduino-volume1           Volume   \n",
       "168    UltraSonic_Lib       UltraSonic   \n",
       "169    Button-Arduino           Button   \n",
       "\n",
       "                                              features  is_uart  is_spi  \\\n",
       "0    MHZ19::MHZ19(byte SDA, byte SDL, byte addr) : ...        1       0   \n",
       "1    HPMA115_Compact::HPMA115_Compact() {}[SEP]bool...        1       0   \n",
       "2    AmbientCO2::AmbientCO2(Stream &serialPort) {_s...        1       0   \n",
       "3    DFRobot_BT401::DFRobot_BT401(){}[SEP]bool DFRo...        1       0   \n",
       "4    ALog::ALog(){}[SEP]void ALog::initialize(char*...        1       1   \n",
       "..                                                 ...      ...     ...   \n",
       "165  ezAnalogKeypad::ezAnalogKeypad(int pin) {keypa...        0       0   \n",
       "166  PMsensor::PMsensor() {}[SEP]void PMsensor::ini...        0       0   \n",
       "167  void Volume::alternatePin(bool enabled) {if (e...        0       0   \n",
       "168  UltraSonic::UltraSonic(int pintype, int pin_on...        0       0   \n",
       "169  Button::Button(uint8_t pin) : Button(pin, B_NO...        0       0   \n",
       "\n",
       "     is_i2c  is_none  len_features  label  \n",
       "0         0        0           945      1  \n",
       "1         0        0           308      1  \n",
       "2         0        0            54      1  \n",
       "3         0        0           251      1  \n",
       "4         1        0          2306      1  \n",
       "..      ...      ...           ...    ...  \n",
       "165       0        1           171      4  \n",
       "166       0        1            71      4  \n",
       "167       0        1           165      4  \n",
       "168       0        1           107      4  \n",
       "169       0        1           157      4  \n",
       "\n",
       "[170 rows x 9 columns]"
      ]
     },
     "execution_count": 11,
     "metadata": {},
     "output_type": "execute_result"
    }
   ],
   "source": [
    "test = pd.read_csv(TEST)\n",
    "test"
   ]
  },
  {
   "cell_type": "code",
   "execution_count": 12,
   "id": "bb40f3f3-0d3c-4dde-953c-d40dfeff1931",
   "metadata": {},
   "outputs": [
    {
     "data": {
      "text/plain": [
       "14"
      ]
     },
     "execution_count": 12,
     "metadata": {},
     "output_type": "execute_result"
    }
   ],
   "source": [
    "test.is_uart.sum()"
   ]
  },
  {
   "cell_type": "code",
   "execution_count": 13,
   "id": "15e2d806-aea3-4b30-b773-377faf45efb7",
   "metadata": {},
   "outputs": [
    {
     "data": {
      "text/plain": [
       "96"
      ]
     },
     "execution_count": 13,
     "metadata": {},
     "output_type": "execute_result"
    }
   ],
   "source": [
    "test.is_i2c.sum()"
   ]
  },
  {
   "cell_type": "code",
   "execution_count": 14,
   "id": "464dad89-6cfa-4eed-aa9a-def85b723835",
   "metadata": {},
   "outputs": [
    {
     "data": {
      "text/plain": [
       "51"
      ]
     },
     "execution_count": 14,
     "metadata": {},
     "output_type": "execute_result"
    }
   ],
   "source": [
    "test.is_none.sum()"
   ]
  },
  {
   "cell_type": "code",
   "execution_count": 15,
   "id": "4d911676-bf1e-4a75-b995-bae8dcb91d6a",
   "metadata": {},
   "outputs": [
    {
     "data": {
      "text/plain": [
       "48"
      ]
     },
     "execution_count": 15,
     "metadata": {},
     "output_type": "execute_result"
    }
   ],
   "source": [
    "test.is_spi.sum()"
   ]
  },
  {
   "cell_type": "code",
   "execution_count": null,
   "id": "f2813231-7ceb-4b14-82e2-b7991cb4f1b9",
   "metadata": {},
   "outputs": [],
   "source": []
  },
  {
   "cell_type": "markdown",
   "id": "dbee43ff-b237-49f2-8716-7131bb554535",
   "metadata": {},
   "source": [
    "# load models"
   ]
  },
  {
   "cell_type": "code",
   "execution_count": 16,
   "id": "2aa705de-fa50-4df9-897f-333f0e38d9ff",
   "metadata": {},
   "outputs": [
    {
     "name": "stderr",
     "output_type": "stream",
     "text": [
      "Some weights of the model checkpoint at models/codebert_all_updated8oct/checkpoint-150 were not used when initializing RobertaModel: ['classifier.dense.weight', 'classifier.out_proj.bias', 'classifier.dense.bias', 'classifier.out_proj.weight']\n",
      "- This IS expected if you are initializing RobertaModel from the checkpoint of a model trained on another task or with another architecture (e.g. initializing a BertForSequenceClassification model from a BertForPreTraining model).\n",
      "- This IS NOT expected if you are initializing RobertaModel from the checkpoint of a model that you expect to be exactly identical (initializing a BertForSequenceClassification model from a BertForSequenceClassification model).\n",
      "Some weights of RobertaModel were not initialized from the model checkpoint at models/codebert_all_updated8oct/checkpoint-150 and are newly initialized: ['roberta.pooler.dense.bias', 'roberta.pooler.dense.weight']\n",
      "You should probably TRAIN this model on a down-stream task to be able to use it for predictions and inference.\n"
     ]
    }
   ],
   "source": [
    "MODEL_PATH = \"models/codebert_all_updated8oct/checkpoint-150\"\n",
    "model = RobertaModel.from_pretrained(MODEL_PATH)\n",
    "tokenizer = AutoTokenizer.from_pretrained(MODEL_PATH)"
   ]
  },
  {
   "cell_type": "code",
   "execution_count": 17,
   "id": "57febcc1-772a-4859-8040-9b97e9ebc07e",
   "metadata": {
    "scrolled": true,
    "tags": []
   },
   "outputs": [],
   "source": [
    "# sample = train.iloc[0].features\n",
    "# sample"
   ]
  },
  {
   "cell_type": "code",
   "execution_count": 18,
   "id": "698904b5-e00e-469e-90b3-51e0556cf336",
   "metadata": {},
   "outputs": [],
   "source": [
    "# model_input = tokenizer(sample, return_tensors=\"pt\", truncation=True, max_length=512, padding='max_length')"
   ]
  },
  {
   "cell_type": "code",
   "execution_count": 19,
   "id": "935ec8d6-a29a-4f1a-b38b-47455f04429b",
   "metadata": {},
   "outputs": [],
   "source": [
    "# with torch.no_grad():\n",
    "#     # print(model(**model_input).pooler_output.numpy().tolist()[0])"
   ]
  },
  {
   "cell_type": "markdown",
   "id": "b9a83754-5d53-4a87-bc17-161743359231",
   "metadata": {},
   "source": [
    "# train"
   ]
  },
  {
   "cell_type": "code",
   "execution_count": 20,
   "id": "c9c0bbe6-9bc5-42a2-b5a6-06137393af8c",
   "metadata": {},
   "outputs": [],
   "source": [
    "def get_labels(df):\n",
    "    is_spi = df.is_spi.values\n",
    "    is_uart = df.is_uart.values\n",
    "    is_i2c = df.is_i2c.values\n",
    "    is_none = df.is_none.values\n",
    "    return np.column_stack((is_uart, is_spi, is_i2c, is_none))\n",
    "\n",
    "def convert_to_vectors(x):\n",
    "    model_input = tokenizer(x, return_tensors=\"pt\", truncation=True, max_length=512, padding='max_length')\n",
    "    with torch.no_grad():\n",
    "        return model(**model_input).pooler_output.numpy().tolist()[0]"
   ]
  },
  {
   "cell_type": "code",
   "execution_count": 21,
   "id": "c30e7776-34ac-47ae-a3f3-99feedd007d0",
   "metadata": {},
   "outputs": [],
   "source": [
    "train_labels = get_labels(train)"
   ]
  },
  {
   "cell_type": "code",
   "execution_count": 22,
   "id": "be862800-0f4e-496d-9967-7499e48f95ed",
   "metadata": {},
   "outputs": [
    {
     "data": {
      "application/vnd.jupyter.widget-view+json": {
       "model_id": "5563f41a6098495585c4dddf836c735f",
       "version_major": 2,
       "version_minor": 0
      },
      "text/plain": [
       "  0%|          | 0/305 [00:00<?, ?it/s]"
      ]
     },
     "metadata": {},
     "output_type": "display_data"
    }
   ],
   "source": [
    "train_features_raw = train.features.progress_apply(lambda x: convert_to_vectors(x))\n",
    "train_features = np.vstack(train_features_raw.values)"
   ]
  },
  {
   "cell_type": "code",
   "execution_count": 23,
   "id": "98aeaa1b-735d-427a-9f14-666ee59168d2",
   "metadata": {},
   "outputs": [
    {
     "data": {
      "text/plain": [
       "((305, 768), (305, 4))"
      ]
     },
     "execution_count": 23,
     "metadata": {},
     "output_type": "execute_result"
    }
   ],
   "source": [
    "train_features.shape, train_labels.shape"
   ]
  },
  {
   "cell_type": "code",
   "execution_count": 24,
   "id": "65893291-e5cd-47c0-b2da-8bc59b4fa0c4",
   "metadata": {},
   "outputs": [],
   "source": [
    "test_labels = get_labels(test)"
   ]
  },
  {
   "cell_type": "code",
   "execution_count": 25,
   "id": "85bac2d4-ac13-467e-b92c-0dec3b3dc9bf",
   "metadata": {},
   "outputs": [
    {
     "data": {
      "application/vnd.jupyter.widget-view+json": {
       "model_id": "f74b816fbb884158b04f5b421d7a7ee7",
       "version_major": 2,
       "version_minor": 0
      },
      "text/plain": [
       "  0%|          | 0/170 [00:00<?, ?it/s]"
      ]
     },
     "metadata": {},
     "output_type": "display_data"
    }
   ],
   "source": [
    "test_features_raw = test.features.progress_apply(lambda x: convert_to_vectors(x))\n",
    "test_features = np.vstack(test_features_raw.values)"
   ]
  },
  {
   "cell_type": "code",
   "execution_count": 26,
   "id": "ddc69b76-82ef-45ae-b2b9-ce817bf3ee87",
   "metadata": {},
   "outputs": [
    {
     "data": {
      "text/plain": [
       "((170, 768), (170, 4))"
      ]
     },
     "execution_count": 26,
     "metadata": {},
     "output_type": "execute_result"
    }
   ],
   "source": [
    "test_features.shape, test_labels.shape"
   ]
  },
  {
   "cell_type": "code",
   "execution_count": 27,
   "id": "545e0f65-9759-45b2-b626-6520e79475be",
   "metadata": {},
   "outputs": [],
   "source": [
    "classifier = OneVsRestClassifier(\n",
    "    svm.SVC(kernel=\"linear\", probability=True, random_state=0)\n",
    ")"
   ]
  },
  {
   "cell_type": "code",
   "execution_count": 28,
   "id": "e9173b6b-f62d-4c88-8067-26d265f1dfa2",
   "metadata": {},
   "outputs": [],
   "source": [
    "y_score = classifier.fit(train_features, train_labels).decision_function(test_features)"
   ]
  },
  {
   "cell_type": "code",
   "execution_count": 29,
   "id": "d637b90c-a27b-4ce4-befe-7c13cfaa5958",
   "metadata": {},
   "outputs": [
    {
     "data": {
      "text/plain": [
       "(170, 4)"
      ]
     },
     "execution_count": 29,
     "metadata": {},
     "output_type": "execute_result"
    }
   ],
   "source": [
    "y_score.shape"
   ]
  },
  {
   "cell_type": "code",
   "execution_count": 30,
   "id": "b7d763df-1806-495d-bd5c-bc9d00b96252",
   "metadata": {},
   "outputs": [],
   "source": [
    "def compute_ROC(y_scores, y_labels, n_classes):\n",
    "    fpr = dict()\n",
    "    tpr = dict()\n",
    "    roc_auc = dict()\n",
    "    for i in range(n_classes):\n",
    "        fpr[i], tpr[i], _ = roc_curve(y_labels[:, i], y_scores[:, i])\n",
    "        roc_auc[i] = auc(fpr[i], tpr[i])\n",
    "    return fpr, tpr, roc_auc"
   ]
  },
  {
   "cell_type": "code",
   "execution_count": 31,
   "id": "8988c03f-4658-43c0-adca-b2c2d05daa5a",
   "metadata": {},
   "outputs": [],
   "source": [
    "lw = 2\n",
    "n_classes=4\n",
    "fpr, tpr, roc_auc = compute_ROC(y_score, test_labels, 4)"
   ]
  },
  {
   "cell_type": "code",
   "execution_count": 32,
   "id": "f346039b-eb5b-486f-8106-ebb16de1e3af",
   "metadata": {},
   "outputs": [
    {
     "data": {
      "image/png": "[encoded data removed]",
      "text/plain": [
       "<Figure size 720x720 with 1 Axes>"
      ]
     },
     "metadata": {
      "needs_background": "light"
     },
     "output_type": "display_data"
    }
   ],
   "source": [
    "# First aggregate all false positive rates\n",
    "all_fpr = np.unique(np.concatenate([fpr[i] for i in range(n_classes)]))\n",
    "\n",
    "# Then interpolate all ROC curves at this points\n",
    "mean_tpr = np.zeros_like(all_fpr)\n",
    "for i in range(n_classes):\n",
    "    mean_tpr += np.interp(all_fpr, fpr[i], tpr[i])\n",
    "\n",
    "# Finally average it and compute AUC\n",
    "mean_tpr /= n_classes\n",
    "\n",
    "fpr[\"macro\"] = all_fpr\n",
    "tpr[\"macro\"] = mean_tpr\n",
    "roc_auc[\"macro\"] = auc(fpr[\"macro\"], tpr[\"macro\"])\n",
    "\n",
    "# Plot all ROC curves\n",
    "plt.figure(figsize=(10,10))\n",
    "plt.plot(\n",
    "    fpr[\"macro\"],\n",
    "    tpr[\"macro\"],\n",
    "    label=\"average ROC curve (area = {0:0.2f})\".format(roc_auc[\"macro\"]),\n",
    "    color=\"navy\",\n",
    "    linestyle=\":\",\n",
    "    linewidth=4,\n",
    ")\n",
    "\n",
    "colors = cycle([\"maroon\", \"darkorange\", \"darkviolet\", 'darkslategray'])\n",
    "for i, color in zip(range(n_classes), colors):\n",
    "    plt.plot(\n",
    "        fpr[i],\n",
    "        tpr[i],\n",
    "        color=color,\n",
    "        lw=lw,\n",
    "        label=\"ROC curve of class {0} (area = {1:0.2f})\".format(i, roc_auc[i]),\n",
    "    )\n",
    "\n",
    "plt.plot([0, 1], [0, 1], \"k--\", lw=lw)\n",
    "plt.xlim([0.0, 1.0])\n",
    "plt.ylim([0.0, 1.05])\n",
    "plt.xlabel(\"False Positive Rate\", fontsize=20)\n",
    "plt.ylabel(\"True Positive Rate\", fontsize = 20)\n",
    "# plt.title(\"SVM Results\")\n",
    "plt.legend(loc=\"lower right\")\n",
    "plt.show()"
   ]
  },
  {
   "cell_type": "markdown",
   "id": "7400783d-ea64-4153-a035-b46d63175d7f",
   "metadata": {},
   "source": [
    "# classify real world queries"
   ]
  },
  {
   "cell_type": "code",
   "execution_count": 36,
   "id": "8c12f118-e67a-4415-8787-b3857623b1ce",
   "metadata": {},
   "outputs": [],
   "source": [
    "json_path = \"prepared_data/real_world_queries_input.json\""
   ]
  },
  {
   "cell_type": "code",
   "execution_count": 37,
   "id": "0f38e042-d535-4891-8509-ec02b39203e2",
   "metadata": {},
   "outputs": [],
   "source": [
    "with open(json_path, 'r') as f:\n",
    "    queries = json.load(f)\n",
    "    \n",
    "queries = pd.DataFrame(queries)"
   ]
  },
  {
   "cell_type": "code",
   "execution_count": 38,
   "id": "cdff6ef0-7d24-4dd9-a1e5-dd28914e9952",
   "metadata": {},
   "outputs": [],
   "source": [
    "test_labels = np.vstack(queries.label.values)"
   ]
  },
  {
   "cell_type": "code",
   "execution_count": 39,
   "id": "14cb7768-c7ec-4762-a56d-9f89b51205e9",
   "metadata": {},
   "outputs": [
    {
     "data": {
      "application/vnd.jupyter.widget-view+json": {
       "model_id": "b0dc90268ce3477bad45a32244bbcaf1",
       "version_major": 2,
       "version_minor": 0
      },
      "text/plain": [
       "  0%|          | 0/290 [00:00<?, ?it/s]"
      ]
     },
     "metadata": {},
     "output_type": "display_data"
    }
   ],
   "source": [
    "test_features_raw = queries.feature.progress_apply(lambda x: convert_to_vectors(x))\n",
    "test_features = np.vstack(test_features_raw.values)"
   ]
  },
  {
   "cell_type": "code",
   "execution_count": 40,
   "id": "8f8a95f2-364c-44cd-a8d6-fe5ee2a4eba6",
   "metadata": {},
   "outputs": [
    {
     "data": {
      "text/plain": [
       "((290, 768), (290, 4))"
      ]
     },
     "execution_count": 40,
     "metadata": {},
     "output_type": "execute_result"
    }
   ],
   "source": [
    "test_features.shape, test_labels.shape"
   ]
  },
  {
   "cell_type": "code",
   "execution_count": 41,
   "id": "38131c4b-842e-4de0-a2b2-bb1f55c6766a",
   "metadata": {},
   "outputs": [],
   "source": [
    "y_score = classifier.decision_function(test_features)"
   ]
  },
  {
   "cell_type": "code",
   "execution_count": 42,
   "id": "c1082a91-88da-404b-96c5-ee828d98f9f0",
   "metadata": {},
   "outputs": [],
   "source": [
    "n_labels = 4\n",
    "lw = 2\n",
    "fpr, tpr, roc_auc = compute_ROC(y_score, test_labels, 4)"
   ]
  },
  {
   "cell_type": "code",
   "execution_count": 43,
   "id": "18aad7a1-1652-43a6-a663-2c79c4a1155e",
   "metadata": {},
   "outputs": [
    {
     "data": {
      "image/png": "[encoded data removed]",
      "text/plain": [
       "<Figure size 720x720 with 1 Axes>"
      ]
     },
     "metadata": {
      "needs_background": "light"
     },
     "output_type": "display_data"
    }
   ],
   "source": [
    "# First aggregate all false positive rates\n",
    "all_fpr = np.unique(np.concatenate([fpr[i] for i in range(n_classes)]))\n",
    "\n",
    "# Then interpolate all ROC curves at this points\n",
    "mean_tpr = np.zeros_like(all_fpr)\n",
    "for i in range(n_classes):\n",
    "    mean_tpr += np.interp(all_fpr, fpr[i], tpr[i])\n",
    "\n",
    "# Finally average it and compute AUC\n",
    "mean_tpr /= n_classes\n",
    "\n",
    "fpr[\"macro\"] = all_fpr\n",
    "tpr[\"macro\"] = mean_tpr\n",
    "roc_auc[\"macro\"] = auc(fpr[\"macro\"], tpr[\"macro\"])\n",
    "\n",
    "# Plot all ROC curves\n",
    "plt.figure(figsize=(10,10))\n",
    "plt.plot(\n",
    "    fpr[\"macro\"],\n",
    "    tpr[\"macro\"],\n",
    "    label=\"average ROC curve (area = {0:0.2f})\".format(roc_auc[\"macro\"]),\n",
    "    color=\"navy\",\n",
    "    linestyle=\":\",\n",
    "    linewidth=4,\n",
    ")\n",
    "\n",
    "colors = cycle([\"maroon\", \"darkorange\", \"darkviolet\", 'darkslategray'])\n",
    "for i, color in zip(range(n_classes), colors):\n",
    "    plt.plot(\n",
    "        fpr[i],\n",
    "        tpr[i],\n",
    "        color=color,\n",
    "        lw=lw,\n",
    "        label=\"ROC curve of class {0} (area = {1:0.2f})\".format(i, roc_auc[i]),\n",
    "    )\n",
    "\n",
    "plt.plot([0, 1], [0, 1], \"k--\", lw=lw)\n",
    "plt.xlim([0.0, 1.0])\n",
    "plt.ylim([0.0, 1.05])\n",
    "plt.xlabel(\"False Positive Rate\", fontsize=20)\n",
    "plt.ylabel(\"True Positive Rate\", fontsize = 20)\n",
    "# plt.title(\"SVM Results\")\n",
    "plt.legend(loc=\"lower right\")\n",
    "plt.show()"
   ]
  },
  {
   "cell_type": "code",
   "execution_count": null,
   "id": "268594e6-53dc-4027-85ff-4c8666e4dd2b",
   "metadata": {},
   "outputs": [],
   "source": []
  }
 ],
 "metadata": {
  "kernelspec": {
   "display_name": "Python 3 (ipykernel)",
   "language": "python",
   "name": "python3"
  },
  "language_info": {
   "codemirror_mode": {
    "name": "ipython",
    "version": 3
   },
   "file_extension": ".py",
   "mimetype": "text/x-python",
   "name": "python",
   "nbconvert_exporter": "python",
   "pygments_lexer": "ipython3",
   "version": "3.8.5"
  }
 },
 "nbformat": 4,
 "nbformat_minor": 5
}
