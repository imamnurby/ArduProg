{
 "cells": [
  {
   "cell_type": "code",
   "execution_count": null,
   "id": "abcea201-9ad7-459a-b62e-7785afd33670",
   "metadata": {},
   "outputs": [],
   "source": [
    "%autosave 0"
   ]
  },
  {
   "cell_type": "code",
   "execution_count": null,
   "id": "fece9159-dd57-47df-baf9-5afb8c828ac3",
   "metadata": {},
   "outputs": [],
   "source": [
    "import os\n",
    "import pandas as pd\n",
    "import numpy as np\n",
    "from tqdm.notebook import tqdm\n",
    "tqdm.pandas()\n",
    "import json\n",
    "\n",
    "from transformers import RobertaModel, AutoTokenizer\n",
    "\n",
    "from sklearn.metrics import precision_score\n",
    "from sklearn.metrics import f1_score\n",
    "from sklearn.metrics import roc_curve\n",
    "from sklearn.metrics import auc\n",
    "from sklearn.multiclass import OneVsRestClassifier\n",
    "from sklearn import svm\n",
    "\n",
    "from itertools import cycle\n",
    "\n",
    "from matplotlib import pyplot as plt\n",
    "\n",
    "import math\n",
    "import torch\n",
    "import random"
   ]
  },
  {
   "cell_type": "code",
   "execution_count": null,
   "id": "e9ad4e75-423c-4f15-aa1f-1bdf4027e179",
   "metadata": {},
   "outputs": [],
   "source": [
    "np.random.seed(42)\n",
    "torch.manual_seed(0)\n",
    "random.seed(0)"
   ]
  },
  {
   "cell_type": "code",
   "execution_count": null,
   "id": "ee11bc5e-a7d5-4563-bdad-c3114fd81a44",
   "metadata": {},
   "outputs": [],
   "source": [
    "TRAIN = \"prepared_data/train.csv\"\n",
    "TEST = \"prepared_data/test.csv\""
   ]
  },
  {
   "cell_type": "code",
   "execution_count": null,
   "id": "3cdbe1b5-85ab-4629-b0d2-e699fb0d8b8c",
   "metadata": {},
   "outputs": [],
   "source": [
    "train = pd.read_csv(TRAIN)"
   ]
  },
  {
   "cell_type": "code",
   "execution_count": null,
   "id": "441d7f8e-c644-43bd-aae4-245316f6c1ff",
   "metadata": {
    "scrolled": true,
    "tags": []
   },
   "outputs": [],
   "source": [
    "train"
   ]
  },
  {
   "cell_type": "code",
   "execution_count": null,
   "id": "ea1b8e90-58eb-42f9-889b-112ff0906933",
   "metadata": {},
   "outputs": [],
   "source": [
    "train.is_uart.sum()"
   ]
  },
  {
   "cell_type": "code",
   "execution_count": null,
   "id": "9ed01728-c53f-4c99-b433-987f2ddf38ef",
   "metadata": {},
   "outputs": [],
   "source": [
    "train.is_i2c.sum()"
   ]
  },
  {
   "cell_type": "code",
   "execution_count": null,
   "id": "8a9540b8-f58d-44e7-a17c-403b3ba6485a",
   "metadata": {},
   "outputs": [],
   "source": [
    "train.is_none.sum()"
   ]
  },
  {
   "cell_type": "code",
   "execution_count": null,
   "id": "2e821216-61f2-43e1-943c-7f32193a0630",
   "metadata": {},
   "outputs": [],
   "source": [
    "train.is_spi.sum()"
   ]
  },
  {
   "cell_type": "code",
   "execution_count": null,
   "id": "b3d5142d-3b9c-47ad-8900-f2a3f6d007e3",
   "metadata": {
    "scrolled": true,
    "tags": []
   },
   "outputs": [],
   "source": [
    "test = pd.read_csv(TEST)\n",
    "test"
   ]
  },
  {
   "cell_type": "code",
   "execution_count": null,
   "id": "bb40f3f3-0d3c-4dde-953c-d40dfeff1931",
   "metadata": {},
   "outputs": [],
   "source": [
    "test.is_uart.sum()"
   ]
  },
  {
   "cell_type": "code",
   "execution_count": null,
   "id": "15e2d806-aea3-4b30-b773-377faf45efb7",
   "metadata": {},
   "outputs": [],
   "source": [
    "test.is_i2c.sum()"
   ]
  },
  {
   "cell_type": "code",
   "execution_count": null,
   "id": "464dad89-6cfa-4eed-aa9a-def85b723835",
   "metadata": {},
   "outputs": [],
   "source": [
    "test.is_none.sum()"
   ]
  },
  {
   "cell_type": "code",
   "execution_count": null,
   "id": "4d911676-bf1e-4a75-b995-bae8dcb91d6a",
   "metadata": {},
   "outputs": [],
   "source": [
    "test.is_spi.sum()"
   ]
  },
  {
   "cell_type": "code",
   "execution_count": null,
   "id": "f2813231-7ceb-4b14-82e2-b7991cb4f1b9",
   "metadata": {},
   "outputs": [],
   "source": []
  },
  {
   "cell_type": "markdown",
   "id": "dbee43ff-b237-49f2-8716-7131bb554535",
   "metadata": {},
   "source": [
    "# load models"
   ]
  },
  {
   "cell_type": "code",
   "execution_count": null,
   "id": "2aa705de-fa50-4df9-897f-333f0e38d9ff",
   "metadata": {},
   "outputs": [],
   "source": [
    "MODEL_PATH = \"models/codebert_all_updated8oct/checkpoint-150\"\n",
    "model = RobertaModel.from_pretrained(MODEL_PATH)\n",
    "tokenizer = AutoTokenizer.from_pretrained(MODEL_PATH)"
   ]
  },
  {
   "cell_type": "code",
   "execution_count": null,
   "id": "57febcc1-772a-4859-8040-9b97e9ebc07e",
   "metadata": {
    "scrolled": true,
    "tags": []
   },
   "outputs": [],
   "source": [
    "# sample = train.iloc[0].features\n",
    "# sample"
   ]
  },
  {
   "cell_type": "code",
   "execution_count": null,
   "id": "698904b5-e00e-469e-90b3-51e0556cf336",
   "metadata": {},
   "outputs": [],
   "source": [
    "# model_input = tokenizer(sample, return_tensors=\"pt\", truncation=True, max_length=512, padding='max_length')"
   ]
  },
  {
   "cell_type": "code",
   "execution_count": null,
   "id": "935ec8d6-a29a-4f1a-b38b-47455f04429b",
   "metadata": {},
   "outputs": [],
   "source": [
    "# with torch.no_grad():\n",
    "#     # print(model(**model_input).pooler_output.numpy().tolist()[0])"
   ]
  },
  {
   "cell_type": "markdown",
   "id": "b9a83754-5d53-4a87-bc17-161743359231",
   "metadata": {},
   "source": [
    "# train"
   ]
  },
  {
   "cell_type": "code",
   "execution_count": null,
   "id": "c9c0bbe6-9bc5-42a2-b5a6-06137393af8c",
   "metadata": {},
   "outputs": [],
   "source": [
    "def get_labels(df):\n",
    "    is_spi = df.is_spi.values\n",
    "    is_uart = df.is_uart.values\n",
    "    is_i2c = df.is_i2c.values\n",
    "    is_none = df.is_none.values\n",
    "    return np.column_stack((is_uart, is_spi, is_i2c, is_none))\n",
    "\n",
    "def convert_to_vectors(x):\n",
    "    model_input = tokenizer(x, return_tensors=\"pt\", truncation=True, max_length=512, padding='max_length')\n",
    "    with torch.no_grad():\n",
    "        return model(**model_input).pooler_output.numpy().tolist()[0]"
   ]
  },
  {
   "cell_type": "code",
   "execution_count": null,
   "id": "c30e7776-34ac-47ae-a3f3-99feedd007d0",
   "metadata": {},
   "outputs": [],
   "source": [
    "train_labels = get_labels(train)"
   ]
  },
  {
   "cell_type": "code",
   "execution_count": null,
   "id": "be862800-0f4e-496d-9967-7499e48f95ed",
   "metadata": {},
   "outputs": [],
   "source": [
    "train_features_raw = train.features.progress_apply(lambda x: convert_to_vectors(x))\n",
    "train_features = np.vstack(train_features_raw.values)"
   ]
  },
  {
   "cell_type": "code",
   "execution_count": null,
   "id": "98aeaa1b-735d-427a-9f14-666ee59168d2",
   "metadata": {},
   "outputs": [],
   "source": [
    "train_features.shape, train_labels.shape"
   ]
  },
  {
   "cell_type": "code",
   "execution_count": null,
   "id": "65893291-e5cd-47c0-b2da-8bc59b4fa0c4",
   "metadata": {},
   "outputs": [],
   "source": [
    "test_labels = get_labels(test)"
   ]
  },
  {
   "cell_type": "code",
   "execution_count": null,
   "id": "85bac2d4-ac13-467e-b92c-0dec3b3dc9bf",
   "metadata": {},
   "outputs": [],
   "source": [
    "test_features_raw = test.features.progress_apply(lambda x: convert_to_vectors(x))\n",
    "test_features = np.vstack(test_features_raw.values)"
   ]
  },
  {
   "cell_type": "code",
   "execution_count": null,
   "id": "ddc69b76-82ef-45ae-b2b9-ce817bf3ee87",
   "metadata": {},
   "outputs": [],
   "source": [
    "test_features.shape, test_labels.shape"
   ]
  },
  {
   "cell_type": "code",
   "execution_count": null,
   "id": "545e0f65-9759-45b2-b626-6520e79475be",
   "metadata": {},
   "outputs": [],
   "source": [
    "classifier = OneVsRestClassifier(\n",
    "    svm.SVC(kernel=\"linear\", probability=True, random_state=0)\n",
    ")"
   ]
  },
  {
   "cell_type": "code",
   "execution_count": null,
   "id": "e9173b6b-f62d-4c88-8067-26d265f1dfa2",
   "metadata": {},
   "outputs": [],
   "source": [
    "y_score = classifier.fit(train_features, train_labels).decision_function(test_features)"
   ]
  },
  {
   "cell_type": "code",
   "execution_count": null,
   "id": "d637b90c-a27b-4ce4-befe-7c13cfaa5958",
   "metadata": {},
   "outputs": [],
   "source": [
    "y_score.shape"
   ]
  },
  {
   "cell_type": "code",
   "execution_count": null,
   "id": "b7d763df-1806-495d-bd5c-bc9d00b96252",
   "metadata": {},
   "outputs": [],
   "source": [
    "def compute_ROC(y_scores, y_labels, n_classes):\n",
    "    fpr = dict()\n",
    "    tpr = dict()\n",
    "    roc_auc = dict()\n",
    "    for i in range(n_classes):\n",
    "        fpr[i], tpr[i], _ = roc_curve(y_labels[:, i], y_scores[:, i])\n",
    "        roc_auc[i] = auc(fpr[i], tpr[i])\n",
    "    return fpr, tpr, roc_auc"
   ]
  },
  {
   "cell_type": "code",
   "execution_count": null,
   "id": "8988c03f-4658-43c0-adca-b2c2d05daa5a",
   "metadata": {},
   "outputs": [],
   "source": [
    "lw = 2\n",
    "n_classes=4\n",
    "fpr, tpr, roc_auc = compute_ROC(y_score, test_labels, 4)"
   ]
  },
  {
   "cell_type": "code",
   "execution_count": null,
   "id": "f346039b-eb5b-486f-8106-ebb16de1e3af",
   "metadata": {},
   "outputs": [],
   "source": [
    "# First aggregate all false positive rates\n",
    "all_fpr = np.unique(np.concatenate([fpr[i] for i in range(n_classes)]))\n",
    "\n",
    "# Then interpolate all ROC curves at this points\n",
    "mean_tpr = np.zeros_like(all_fpr)\n",
    "for i in range(n_classes):\n",
    "    mean_tpr += np.interp(all_fpr, fpr[i], tpr[i])\n",
    "\n",
    "# Finally average it and compute AUC\n",
    "mean_tpr /= n_classes\n",
    "\n",
    "fpr[\"macro\"] = all_fpr\n",
    "tpr[\"macro\"] = mean_tpr\n",
    "roc_auc[\"macro\"] = auc(fpr[\"macro\"], tpr[\"macro\"])\n",
    "\n",
    "# Plot all ROC curves\n",
    "plt.figure(figsize=(10,10))\n",
    "plt.plot(\n",
    "    fpr[\"macro\"],\n",
    "    tpr[\"macro\"],\n",
    "    label=\"average ROC curve (area = {0:0.2f})\".format(roc_auc[\"macro\"]),\n",
    "    color=\"navy\",\n",
    "    linestyle=\":\",\n",
    "    linewidth=4,\n",
    ")\n",
    "\n",
    "colors = cycle([\"maroon\", \"darkorange\", \"darkviolet\", 'darkslategray'])\n",
    "for i, color in zip(range(n_classes), colors):\n",
    "    plt.plot(\n",
    "        fpr[i],\n",
    "        tpr[i],\n",
    "        color=color,\n",
    "        lw=lw,\n",
    "        label=\"ROC curve of class {0} (area = {1:0.2f})\".format(i, roc_auc[i]),\n",
    "    )\n",
    "\n",
    "plt.plot([0, 1], [0, 1], \"k--\", lw=lw)\n",
    "plt.xlim([0.0, 1.0])\n",
    "plt.ylim([0.0, 1.05])\n",
    "plt.xlabel(\"False Positive Rate\", fontsize=20)\n",
    "plt.ylabel(\"True Positive Rate\", fontsize = 20)\n",
    "# plt.title(\"SVM Results\")\n",
    "plt.legend(loc=\"lower right\")\n",
    "plt.show()"
   ]
  },
  {
   "cell_type": "markdown",
   "id": "7400783d-ea64-4153-a035-b46d63175d7f",
   "metadata": {},
   "source": [
    "# classify real world queries"
   ]
  },
  {
   "cell_type": "code",
   "execution_count": null,
   "id": "8c12f118-e67a-4415-8787-b3857623b1ce",
   "metadata": {},
   "outputs": [],
   "source": [
    "json_path = \"prepared_data/real_world_queries_input.json\""
   ]
  },
  {
   "cell_type": "code",
   "execution_count": null,
   "id": "0f38e042-d535-4891-8509-ec02b39203e2",
   "metadata": {},
   "outputs": [],
   "source": [
    "with open(json_path, 'r') as f:\n",
    "    queries = json.load(f)\n",
    "    \n",
    "queries = pd.DataFrame(queries)"
   ]
  },
  {
   "cell_type": "code",
   "execution_count": null,
   "id": "cdff6ef0-7d24-4dd9-a1e5-dd28914e9952",
   "metadata": {},
   "outputs": [],
   "source": [
    "test_labels = np.vstack(queries.label.values)"
   ]
  },
  {
   "cell_type": "code",
   "execution_count": null,
   "id": "14cb7768-c7ec-4762-a56d-9f89b51205e9",
   "metadata": {},
   "outputs": [],
   "source": [
    "test_features_raw = queries.feature.progress_apply(lambda x: convert_to_vectors(x))\n",
    "test_features = np.vstack(test_features_raw.values)"
   ]
  },
  {
   "cell_type": "code",
   "execution_count": null,
   "id": "8f8a95f2-364c-44cd-a8d6-fe5ee2a4eba6",
   "metadata": {},
   "outputs": [],
   "source": [
    "test_features.shape, test_labels.shape"
   ]
  },
  {
   "cell_type": "code",
   "execution_count": null,
   "id": "38131c4b-842e-4de0-a2b2-bb1f55c6766a",
   "metadata": {},
   "outputs": [],
   "source": [
    "y_score = classifier.decision_function(test_features)"
   ]
  },
  {
   "cell_type": "code",
   "execution_count": null,
   "id": "c1082a91-88da-404b-96c5-ee828d98f9f0",
   "metadata": {},
   "outputs": [],
   "source": [
    "n_labels = 4\n",
    "lw = 2\n",
    "fpr, tpr, roc_auc = compute_ROC(y_score, test_labels, 4)"
   ]
  },
  {
   "cell_type": "code",
   "execution_count": null,
   "id": "18aad7a1-1652-43a6-a663-2c79c4a1155e",
   "metadata": {},
   "outputs": [],
   "source": [
    "# First aggregate all false positive rates\n",
    "all_fpr = np.unique(np.concatenate([fpr[i] for i in range(n_classes)]))\n",
    "\n",
    "# Then interpolate all ROC curves at this points\n",
    "mean_tpr = np.zeros_like(all_fpr)\n",
    "for i in range(n_classes):\n",
    "    mean_tpr += np.interp(all_fpr, fpr[i], tpr[i])\n",
    "\n",
    "# Finally average it and compute AUC\n",
    "mean_tpr /= n_classes\n",
    "\n",
    "fpr[\"macro\"] = all_fpr\n",
    "tpr[\"macro\"] = mean_tpr\n",
    "roc_auc[\"macro\"] = auc(fpr[\"macro\"], tpr[\"macro\"])\n",
    "\n",
    "# Plot all ROC curves\n",
    "plt.figure(figsize=(10,10))\n",
    "plt.plot(\n",
    "    fpr[\"macro\"],\n",
    "    tpr[\"macro\"],\n",
    "    label=\"average ROC curve (area = {0:0.2f})\".format(roc_auc[\"macro\"]),\n",
    "    color=\"navy\",\n",
    "    linestyle=\":\",\n",
    "    linewidth=4,\n",
    ")\n",
    "\n",
    "colors = cycle([\"maroon\", \"darkorange\", \"darkviolet\", 'darkslategray'])\n",
    "for i, color in zip(range(n_classes), colors):\n",
    "    plt.plot(\n",
    "        fpr[i],\n",
    "        tpr[i],\n",
    "        color=color,\n",
    "        lw=lw,\n",
    "        label=\"ROC curve of class {0} (area = {1:0.2f})\".format(i, roc_auc[i]),\n",
    "    )\n",
    "\n",
    "plt.plot([0, 1], [0, 1], \"k--\", lw=lw)\n",
    "plt.xlim([0.0, 1.0])\n",
    "plt.ylim([0.0, 1.05])\n",
    "plt.xlabel(\"False Positive Rate\", fontsize=20)\n",
    "plt.ylabel(\"True Positive Rate\", fontsize = 20)\n",
    "# plt.title(\"SVM Results\")\n",
    "plt.legend(loc=\"lower right\")\n",
    "plt.show()"
   ]
  },
  {
   "cell_type": "code",
   "execution_count": null,
   "id": "268594e6-53dc-4027-85ff-4c8666e4dd2b",
   "metadata": {},
   "outputs": [],
   "source": []
  }
 ],
 "metadata": {
  "kernelspec": {
   "display_name": "Python 3 (ipykernel)",
   "language": "python",
   "name": "python3"
  },
  "language_info": {
   "codemirror_mode": {
    "name": "ipython",
    "version": 3
   },
   "file_extension": ".py",
   "mimetype": "text/x-python",
   "name": "python",
   "nbconvert_exporter": "python",
   "pygments_lexer": "ipython3",
   "version": "3.8.5"
  }
 },
 "nbformat": 4,
 "nbformat_minor": 5
}
